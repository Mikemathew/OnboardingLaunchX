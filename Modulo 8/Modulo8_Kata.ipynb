{
 "cells": [
  {
   "cell_type": "markdown",
   "metadata": {},
   "source": [
    "# Ejercicio 1: Creación de diccionarios de Python"
   ]
  },
  {
   "cell_type": "code",
   "execution_count": 1,
   "metadata": {},
   "outputs": [],
   "source": [
    "# Crea un diccionario llamado planet con los datos propuestos: Para el planeta Marte\n",
    "planets = {\n",
    "    'name' : 'Marte',\n",
    "    'moons': 2\n",
    "\n",
    "}"
   ]
  },
  {
   "cell_type": "code",
   "execution_count": 3,
   "metadata": {},
   "outputs": [
    {
     "name": "stdout",
     "output_type": "stream",
     "text": [
      "El planeta: Marte tiene 2 lunas en su orbita\n"
     ]
    }
   ],
   "source": [
    "# Muestra el nombre del planeta y el número de lunas que tiene.\n",
    "print(\"El planeta: \" + planets['name'] + \" tiene \" + str(planets['moons']) + ' lunas en su orbita')"
   ]
  },
  {
   "cell_type": "code",
   "execution_count": 5,
   "metadata": {},
   "outputs": [],
   "source": [
    "# Agrega la clave circunferencia con los datos proporcionados\n",
    "# Circunferencia polar: 6752\n",
    "# Circunferencia equatorial: 6792\n",
    "planets.update({\n",
    "    'circunferencia (km)': {\n",
    "        'polar': 6752,\n",
    "        'ecuatorial' : 6792\n",
    "    }\n",
    "})"
   ]
  },
  {
   "cell_type": "code",
   "execution_count": 10,
   "metadata": {},
   "outputs": [
    {
     "name": "stdout",
     "output_type": "stream",
     "text": [
      "El planeta: Marte tiene 2 lunas en su orbita, y su circunferencia polar es de 6752 km.\n"
     ]
    }
   ],
   "source": [
    "# Imprime el nombre del planeta con su circunferencia polar.\n",
    "print(\"El planeta: \" + planets['name'] + \" tiene \" + str(planets['moons']) + ' lunas en su orbita, y su circunferencia polar es de ' + str(planets['circunferencia (km)']['polar']) + ' km.')"
   ]
  },
  {
   "cell_type": "markdown",
   "metadata": {},
   "source": [
    "# Ejercicio 2"
   ]
  },
  {
   "cell_type": "code",
   "execution_count": 11,
   "metadata": {},
   "outputs": [],
   "source": [
    "# Planets and moons\n",
    "\n",
    "planet_moons = {\n",
    "    'mercury': 0,\n",
    "    'venus': 0,\n",
    "    'earth': 1,\n",
    "    'mars': 2,\n",
    "    'jupiter': 79,\n",
    "    'saturn': 82,\n",
    "    'uranus': 27,\n",
    "    'neptune': 14,\n",
    "    'pluto': 5,\n",
    "    'haumea': 2,\n",
    "    'makemake': 1,\n",
    "    'eris': 1\n",
    "}"
   ]
  },
  {
   "cell_type": "code",
   "execution_count": 19,
   "metadata": {},
   "outputs": [
    {
     "name": "stdout",
     "output_type": "stream",
     "text": [
      "Total de lunas: 214\n",
      "Total de planetas: 12\n",
      "Promedio de lunas: 17.833333333333332\n"
     ]
    }
   ],
   "source": [
    "moons = 0\n",
    "num_planets = 0\n",
    "\n",
    "for val in planet_moons.values():\n",
    "    moons = moons +  val\n",
    "\n",
    "num_planets = len(planet_moons.keys())\n",
    "\n",
    "#Promedio de lunas\n",
    "avgMoons = moons / num_planets;\n",
    "\n",
    "print(\"Total de lunas: \" + str(moons))\n",
    "print(\"Total de planetas: \" + str(num_planets))\n",
    "print(\"Promedio de lunas: \" + str(avgMoons))"
   ]
  }
 ],
 "metadata": {
  "interpreter": {
   "hash": "92bf429824eabc89cce9de46a28da03487c3c0c8e1997eabee6443736c764cee"
  },
  "kernelspec": {
   "display_name": "Python 3.10.2 64-bit (windows store)",
   "language": "python",
   "name": "python3"
  },
  "language_info": {
   "codemirror_mode": {
    "name": "ipython",
    "version": 3
   },
   "file_extension": ".py",
   "mimetype": "text/x-python",
   "name": "python",
   "nbconvert_exporter": "python",
   "pygments_lexer": "ipython3",
   "version": "3.10.2"
  },
  "orig_nbformat": 4
 },
 "nbformat": 4,
 "nbformat_minor": 2
}
