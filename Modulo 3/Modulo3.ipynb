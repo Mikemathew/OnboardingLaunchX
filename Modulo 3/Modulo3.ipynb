{
 "cells": [
  {
   "cell_type": "code",
   "execution_count": 1,
   "metadata": {},
   "outputs": [
    {
     "name": "stdout",
     "output_type": "stream",
     "text": [
      "Este valor es mayor: 97\n"
     ]
    }
   ],
   "source": [
    "a = 97\n",
    "b = 67\n",
    "\n",
    "if a > b:\n",
    "    print(\"Este valor es mayor: \" + str(a))"
   ]
  },
  {
   "cell_type": "code",
   "execution_count": 2,
   "metadata": {},
   "outputs": [
    {
     "name": "stdout",
     "output_type": "stream",
     "text": [
      "97\n"
     ]
    }
   ],
   "source": [
    "a = 97\n",
    "b = 27\n",
    "\n",
    "if a >= b:\n",
    "    print(a)"
   ]
  },
  {
   "cell_type": "code",
   "execution_count": 6,
   "metadata": {},
   "outputs": [
    {
     "name": "stdout",
     "output_type": "stream",
     "text": [
      "44\n"
     ]
    }
   ],
   "source": [
    "a = 24\n",
    "b = 44\n",
    "if a <= 0:\n",
    "    print(a)\n",
    "print(b)"
   ]
  },
  {
   "cell_type": "code",
   "execution_count": 12,
   "metadata": {},
   "outputs": [
    {
     "name": "stdout",
     "output_type": "stream",
     "text": [
      "Los valores son iguales\n"
     ]
    }
   ],
   "source": [
    "a = 93\n",
    "b = 93\n",
    "\n",
    "if a > b:\n",
    "    print(\"El valor de a es mayor que b\")\n",
    "elif  a < b:\n",
    "    print(\"El valor de b es mayor que a\")\n",
    "else:\n",
    "    print(\"Los valores son iguales\")"
   ]
  },
  {
   "cell_type": "code",
   "execution_count": 16,
   "metadata": {},
   "outputs": [
    {
     "name": "stdout",
     "output_type": "stream",
     "text": [
      "a es menor que b\n",
      "Otro print al final\n",
      "Final del programa\n"
     ]
    }
   ],
   "source": [
    "a = 16\n",
    "b = 35\n",
    "c = 27\n",
    "\n",
    "if a > b:\n",
    "    if b > c:\n",
    "        print(\"a es mayor que b y b es mayor que c\")\n",
    "        print(\"Va de nuevo otro print\")\n",
    "    else:\n",
    "        print(\"a es mayor que b y es menor que c\")\n",
    "elif a == b:\n",
    "    print(\"a es igual que b\")\n",
    "else:\n",
    "    print(\"a es menor que b\")\n",
    "    print(\"Otro print al final\")\n",
    "\n",
    "print(\"Final del programa\")"
   ]
  },
  {
   "cell_type": "code",
   "execution_count": 18,
   "metadata": {},
   "outputs": [
    {
     "name": "stdout",
     "output_type": "stream",
     "text": [
      "Alguno de los valores es 34\n",
      "La suma es: 57\n"
     ]
    }
   ],
   "source": [
    "a = 23\n",
    "b = 34\n",
    "\n",
    "if a== 34 or b == 34:\n",
    "    print(\"Alguno de los valores es 34\")\n",
    "    print(\"La suma es: \" + str(a + b))"
   ]
  },
  {
   "cell_type": "code",
   "execution_count": 20,
   "metadata": {},
   "outputs": [
    {
     "name": "stdout",
     "output_type": "stream",
     "text": [
      "Los dos valores son 34\n",
      "La suma es: 68\n"
     ]
    }
   ],
   "source": [
    "a = 34\n",
    "b = 34\n",
    "\n",
    "if a== 34 and b == 34:\n",
    "    print(\"Los dos valores son 34\")\n",
    "    print(\"La suma es: \" + str(a + b))"
   ]
  }
 ],
 "metadata": {
  "interpreter": {
   "hash": "92bf429824eabc89cce9de46a28da03487c3c0c8e1997eabee6443736c764cee"
  },
  "kernelspec": {
   "display_name": "Python 3.10.2 64-bit (windows store)",
   "language": "python",
   "name": "python3"
  },
  "language_info": {
   "codemirror_mode": {
    "name": "ipython",
    "version": 3
   },
   "file_extension": ".py",
   "mimetype": "text/x-python",
   "name": "python",
   "nbconvert_exporter": "python",
   "pygments_lexer": "ipython3",
   "version": "3.10.2"
  },
  "orig_nbformat": 4
 },
 "nbformat": 4,
 "nbformat_minor": 2
}
