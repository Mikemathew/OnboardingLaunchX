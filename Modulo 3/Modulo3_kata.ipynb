{
 "cells": [
  {
   "cell_type": "code",
   "execution_count": 3,
   "metadata": {},
   "outputs": [
    {
     "name": "stdout",
     "output_type": "stream",
     "text": [
      "Todo tranquilo, por el momento\n"
     ]
    }
   ],
   "source": [
    "velAsteroide = 49\n",
    "valReferencia = 25\n",
    "\n",
    "if velAsteroide >= valReferencia:\n",
    "    print(\"Se acerca un asteroide demasiado rápido!!!\")\n",
    "else:\n",
    "    print(\"Todo tranquilo, por el momento\")"
   ]
  },
  {
   "cell_type": "code",
   "execution_count": 6,
   "metadata": {},
   "outputs": [
    {
     "name": "stdout",
     "output_type": "stream",
     "text": [
      "Se acerca un asteroide muy rápido. La luz en el cielo lo confirma\n"
     ]
    }
   ],
   "source": [
    "velAsteroide = 25\n",
    "valReferencia = 20\n",
    "\n",
    "if velAsteroide > valReferencia:\n",
    "    print(\"Se acerca un asteroide muy rápido. La luz en el cielo lo confirma\")\n",
    "elif velAsteroide == valReferencia:\n",
    "    print(\"Busquemos una luz en el cielo, es posible que sea visible por que se acerca un asteroide\")\n",
    "elif velAsteroide < valReferencia:\n",
    "    print(\"Nada que reportar por el momento\")"
   ]
  },
  {
   "cell_type": "code",
   "execution_count": 11,
   "metadata": {},
   "outputs": [
    {
     "name": "stdout",
     "output_type": "stream",
     "text": [
      "Es un asteriode pequeño, pero viene muy rápido!!!\n"
     ]
    }
   ],
   "source": [
    "velAsteroide = 1\n",
    "tamAsteroide = 1\n",
    "valReferencia = 20\n",
    "valMinAsteroide = 25\n",
    "valMaxAsteroide = 1000\n",
    "\n",
    "if tamAsteroide >= valMinAsteroide and tamAsteroide <= valMaxAsteroide:\n",
    "    print(\"Es un asteroide muy grande, probablemente termine con la vida en la tierra\")\n",
    "    if velAsteroide > valReferencia:\n",
    "        print(\"Además viene muy rápido, ya fuimos :(\")\n",
    "    else:\n",
    "        print(\"No viene tan rápido, de cualquier manera, el daño será muy grande\")\n",
    "elif velAsteroide > valReferencia and tamAsteroide < valMinAsteroide:\n",
    "    print(\"Es un asteriode pequeño, pero viene muy rápido!!!\")\n",
    "elif tamAsteroide < valMinAsteroide and velAsteroide < valReferencia:\n",
    "    print(\"Es un asteroide pequeño, no hay mucho de que preocuparse. Tampoco viene muy rapido\")\n",
    "else:\n",
    "    print(\"Valores fuera de rango, extremar precauciones\")"
   ]
  }
 ],
 "metadata": {
  "interpreter": {
   "hash": "92bf429824eabc89cce9de46a28da03487c3c0c8e1997eabee6443736c764cee"
  },
  "kernelspec": {
   "display_name": "Python 3.10.2 64-bit (windows store)",
   "language": "python",
   "name": "python3"
  },
  "language_info": {
   "codemirror_mode": {
    "name": "ipython",
    "version": 3
   },
   "file_extension": ".py",
   "mimetype": "text/x-python",
   "name": "python",
   "nbconvert_exporter": "python",
   "pygments_lexer": "ipython3",
   "version": "3.10.2"
  },
  "orig_nbformat": 4
 },
 "nbformat": 4,
 "nbformat_minor": 2
}
