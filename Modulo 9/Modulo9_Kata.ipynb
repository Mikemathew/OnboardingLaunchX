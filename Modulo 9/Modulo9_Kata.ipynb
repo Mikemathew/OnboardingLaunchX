{
 "cells": [
  {
   "cell_type": "markdown",
   "metadata": {},
   "source": [
    "# Ejercicio 1"
   ]
  },
  {
   "cell_type": "code",
   "execution_count": 8,
   "metadata": {},
   "outputs": [],
   "source": [
    "#crear una función que necesite tres lecturas de combustible y devuelva un informe:\n",
    "# Función para leer 3 tanques de combustible y muestre el promedio\n",
    "\n",
    "def average_fuel (lectpos1, lectpos2, lectpos3):\n",
    "    fuel = lectpos1 + lectpos2 + lectpos3\n",
    "    print(f\"\"\"INFORME DE COMBUSTIBLE\n",
    "        Combustible primera posición: {lectpos1}\n",
    "        Combustible segunda posición: {lectpos2}\n",
    "        Combustible tercera posición: {lectpos3}\n",
    "        Promedio disponible: {fuel}\n",
    "    \"\"\")\n",
    "    return(fuel / 3)\n",
    "\n"
   ]
  },
  {
   "cell_type": "code",
   "execution_count": 9,
   "metadata": {},
   "outputs": [
    {
     "name": "stdout",
     "output_type": "stream",
     "text": [
      "INFORME DE COMBUSTIBLE\n",
      "        Combustible primera posición: 4\n",
      "        Combustible segunda posición: 10\n",
      "        Combustible tercera posición: 3\n",
      "        Promedio disponible: 17\n",
      "    \n"
     ]
    }
   ],
   "source": [
    "dispFuel = average_fuel(4, 10, 3)"
   ]
  },
  {
   "cell_type": "code",
   "execution_count": 10,
   "metadata": {},
   "outputs": [
    {
     "name": "stdout",
     "output_type": "stream",
     "text": [
      "El promedio de combustible disponible es: 5.666666666666667\n"
     ]
    }
   ],
   "source": [
    "print(\"El promedio de combustible disponible es: \" + str(dispFuel))"
   ]
  },
  {
   "cell_type": "code",
   "execution_count": 11,
   "metadata": {},
   "outputs": [],
   "source": [
    "#Definimos una función para calcular el promedio\n",
    "def calcAverage(values):\n",
    "    total = sum(values)\n",
    "    num = len(values)\n",
    "    return total / num"
   ]
  },
  {
   "cell_type": "code",
   "execution_count": 14,
   "metadata": {},
   "outputs": [],
   "source": [
    "#Modificamos la función origianl para utilizar la función externa de calculo de promedio\n",
    "def average_fuel (lectpos1, lectpos2, lectpos3):\n",
    "    fuel = calcAverage([lectpos1, lectpos2, lectpos3])\n",
    "    print(f\"\"\"INFORME DE COMBUSTIBLE\n",
    "        Combustible primera posición: {lectpos1}\n",
    "        Combustible segunda posición: {lectpos2}\n",
    "        Combustible tercera posición: {lectpos3}\n",
    "        Promedio disponible: {fuel}\n",
    "    \"\"\")\n",
    "    return(fuel)"
   ]
  },
  {
   "cell_type": "code",
   "execution_count": 16,
   "metadata": {},
   "outputs": [
    {
     "name": "stdout",
     "output_type": "stream",
     "text": [
      "INFORME DE COMBUSTIBLE\n",
      "        Combustible primera posición: 4\n",
      "        Combustible segunda posición: 10\n",
      "        Combustible tercera posición: 3\n",
      "        Promedio disponible: 5.666666666666667\n",
      "    \n"
     ]
    }
   ],
   "source": [
    "dispFuel = average_fuel(4, 10, 3)"
   ]
  },
  {
   "cell_type": "markdown",
   "metadata": {},
   "source": [
    "# Ejercicio 2"
   ]
  },
  {
   "cell_type": "code",
   "execution_count": 24,
   "metadata": {},
   "outputs": [],
   "source": [
    "# Función con un informe preciso de la misión. Considera hora de prelanzamiento, tiempo de vuelo, destino, tanque externo y tanque interno\n",
    "def missionFligth(launchTime, fligthTime, destiny, externalTank, internalTank):\n",
    "    print(f\"\"\" REPORTE DE MISIÓN\n",
    "        Destino: {destiny}\n",
    "        El lanzamiento está programado para las {launchTime}\n",
    "        Tiempo de vuelo estimado: {fligthTime}\n",
    "        Combustible disponible:\n",
    "            Tanque externo: {externalTank}%\n",
    "            Tanque interno: {internalTank}%\n",
    "\n",
    "    \"\"\")"
   ]
  },
  {
   "cell_type": "code",
   "execution_count": 25,
   "metadata": {},
   "outputs": [
    {
     "name": "stdout",
     "output_type": "stream",
     "text": [
      " REPORTE DE MISIÓN\n",
      "        Destino: Mercury\n",
      "        El lanzamiento está programado para las 12 Hrs\n",
      "        Tiempo de vuelo estimado: 4 hrs\n",
      "        Combustible disponible:\n",
      "            Tanque externo: 90%\n",
      "            Tanque interno: 100%\n",
      "\n",
      "    \n",
      "None\n"
     ]
    }
   ],
   "source": [
    "print(missionFligth('12 Hrs', '4 hrs', 'Mercury', '90', 100))"
   ]
  },
  {
   "cell_type": "code",
   "execution_count": 34,
   "metadata": {},
   "outputs": [],
   "source": [
    "def missionFligth(launchTime, destiny, *minutesfligthTime, **fuelTank):\n",
    "    dispFuel = ''\n",
    "    print(f\"\"\" REPORTE DE MISIÓN\n",
    "        Destino: {destiny}\n",
    "        El lanzamiento está programado para las {launchTime}\n",
    "        Tiempo de vuelo estimado: {sum(minutesfligthTime)} minutos\n",
    "        Combustible disponible: {sum(fuelTank.values())}\n",
    "    \"\"\")\n",
    "    for tank, fuel in fuelTank.items():\n",
    "        dispFuel += f\"{tank} tiene {fuel} litros de combustible disponibles\\n\"\n",
    "    return dispFuel"
   ]
  },
  {
   "cell_type": "code",
   "execution_count": 35,
   "metadata": {},
   "outputs": [
    {
     "name": "stdout",
     "output_type": "stream",
     "text": [
      " REPORTE DE MISIÓN\n",
      "        Destino: Mars\n",
      "        El lanzamiento está programado para las 12 PM\n",
      "        Tiempo de vuelo estimado: 75 minutos\n",
      "        Combustible disponible: 450\n",
      "    \n",
      "tank1 tiene 100 litros de combustible disponibles\n",
      "tank2 tiene 200 litros de combustible disponibles\n",
      "tank3 tiene 150 litros de combustible disponibles\n",
      "\n"
     ]
    }
   ],
   "source": [
    "print(missionFligth(\"12 PM\", 'Mars', 10, 20, 15, 30, tank1=100, tank2=200, tank3=150))"
   ]
  }
 ],
 "metadata": {
  "interpreter": {
   "hash": "92bf429824eabc89cce9de46a28da03487c3c0c8e1997eabee6443736c764cee"
  },
  "kernelspec": {
   "display_name": "Python 3.10.2 64-bit (windows store)",
   "language": "python",
   "name": "python3"
  },
  "language_info": {
   "codemirror_mode": {
    "name": "ipython",
    "version": 3
   },
   "file_extension": ".py",
   "mimetype": "text/x-python",
   "name": "python",
   "nbconvert_exporter": "python",
   "pygments_lexer": "ipython3",
   "version": "3.10.2"
  },
  "orig_nbformat": 4
 },
 "nbformat": 4,
 "nbformat_minor": 2
}
