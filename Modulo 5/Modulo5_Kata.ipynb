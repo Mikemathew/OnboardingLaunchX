{
 "cells": [
  {
   "cell_type": "markdown",
   "metadata": {},
   "source": [
    "# Ejercicio 1"
   ]
  },
  {
   "cell_type": "code",
   "execution_count": 12,
   "metadata": {},
   "outputs": [
    {
     "name": "stdout",
     "output_type": "stream",
     "text": [
      "Distancia Tierra:149597870\n",
      "Distancia Jupiter:778547200\n",
      "Distancia en Kms: 628949330\n",
      "Distancia en millas: 390810995.0389724\n"
     ]
    }
   ],
   "source": [
    "distTierra = 149597870 # Distancia en Kms\n",
    "distJupiter = 778547200 # Distancia en Kms\n",
    "\n",
    "factorConversion = 1.609344 # Convertir Kms a Millas\n",
    "\n",
    "distancia = abs(distJupiter - distTierra) # * factorConversion\n",
    "\n",
    "print(\"Distancia Tierra:\" + str(distTierra))\n",
    "print(\"Distancia Jupiter:\" + str(distJupiter))\n",
    "print(\"Distancia en Kms: \" + str(distancia))\n",
    "\n",
    "print(\"Distancia en millas: \" + str(distancia / factorConversion))\n"
   ]
  },
  {
   "cell_type": "markdown",
   "metadata": {},
   "source": [
    "# Ejercicio 2"
   ]
  },
  {
   "cell_type": "code",
   "execution_count": 14,
   "metadata": {},
   "outputs": [
    {
     "name": "stdout",
     "output_type": "stream",
     "text": [
      "La distancia entre los dos planetas es: 0.621\n"
     ]
    }
   ],
   "source": [
    "distPlaneta1 = input(\"Cual es la distancia al sol del primer planeta (en Kms)?\")\n",
    "distPlaneta2 = input(\"Cual es la distancia al sol del segundo planeta (en Kms)?\")\n",
    "\n",
    "distPlaneta1 = int(distPlaneta1)\n",
    "distPlaneta2 = int(distPlaneta2)\n",
    "\n",
    "distancia = abs(distPlaneta2 - distPlaneta1) * 0.621\n",
    "\n",
    "print(\"La distancia entre los dos planetas es: {distance}\".format(distance = distancia))\n",
    "\n"
   ]
  }
 ],
 "metadata": {
  "interpreter": {
   "hash": "92bf429824eabc89cce9de46a28da03487c3c0c8e1997eabee6443736c764cee"
  },
  "kernelspec": {
   "display_name": "Python 3.10.2 64-bit (windows store)",
   "language": "python",
   "name": "python3"
  },
  "language_info": {
   "codemirror_mode": {
    "name": "ipython",
    "version": 3
   },
   "file_extension": ".py",
   "mimetype": "text/x-python",
   "name": "python",
   "nbconvert_exporter": "python",
   "pygments_lexer": "ipython3",
   "version": "3.10.2"
  },
  "orig_nbformat": 4
 },
 "nbformat": 4,
 "nbformat_minor": 2
}
