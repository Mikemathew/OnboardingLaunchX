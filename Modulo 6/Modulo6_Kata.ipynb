{
 "cells": [
  {
   "cell_type": "code",
   "execution_count": 1,
   "metadata": {},
   "outputs": [
    {
     "name": "stdout",
     "output_type": "stream",
     "text": [
      "8\n"
     ]
    }
   ],
   "source": [
    "planets = ['Mercury', 'Venus', 'Earth', 'Mars', 'Jupiter', 'Saturn', 'Uranus', 'Neptune']\n",
    "\n",
    "print(len(planets))\n"
   ]
  },
  {
   "cell_type": "code",
   "execution_count": 2,
   "metadata": {},
   "outputs": [
    {
     "name": "stdout",
     "output_type": "stream",
     "text": [
      "Pluto\n"
     ]
    }
   ],
   "source": [
    "planets.append('Pluto')\n",
    "\n",
    "print(planets[len(planets)-1])"
   ]
  },
  {
   "cell_type": "code",
   "execution_count": 10,
   "metadata": {},
   "outputs": [
    {
     "name": "stdout",
     "output_type": "stream",
     "text": [
      "Planeta encontrado en la posición: 8\n"
     ]
    }
   ],
   "source": [
    "customPlanet = input('Teclee el nombre de un planeta: ')\n",
    "\n",
    "planetposition = planets.index(customPlanet)\n",
    " \n",
    "print(\"Planeta encontrado en la posición: \" + str(planetposition))"
   ]
  },
  {
   "cell_type": "code",
   "execution_count": 11,
   "metadata": {},
   "outputs": [
    {
     "name": "stdout",
     "output_type": "stream",
     "text": [
      "['Mercury', 'Venus', 'Earth', 'Mars', 'Jupiter', 'Saturn', 'Uranus', 'Neptune']\n"
     ]
    }
   ],
   "source": [
    "# Planetas más cercanos al sol\n",
    "\n",
    "closestSun = planets[0: planetposition]\n",
    "\n",
    "print(closestSun)"
   ]
  },
  {
   "cell_type": "code",
   "execution_count": 13,
   "metadata": {},
   "outputs": [
    {
     "name": "stdout",
     "output_type": "stream",
     "text": [
      "[]\n"
     ]
    }
   ],
   "source": [
    "farthestSun = planets[planetposition + 1 : len(planets)]\n",
    "\n",
    "print(farthestSun)"
   ]
  }
 ],
 "metadata": {
  "interpreter": {
   "hash": "92bf429824eabc89cce9de46a28da03487c3c0c8e1997eabee6443736c764cee"
  },
  "kernelspec": {
   "display_name": "Python 3.10.2 64-bit (windows store)",
   "language": "python",
   "name": "python3"
  },
  "language_info": {
   "codemirror_mode": {
    "name": "ipython",
    "version": 3
   },
   "file_extension": ".py",
   "mimetype": "text/x-python",
   "name": "python",
   "nbconvert_exporter": "python",
   "pygments_lexer": "ipython3",
   "version": "3.10.2"
  },
  "orig_nbformat": 4
 },
 "nbformat": 4,
 "nbformat_minor": 2
}
